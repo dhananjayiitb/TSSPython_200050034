{
 "cells": [
  {
   "cell_type": "code",
   "execution_count": 38,
   "id": "aab8a320",
   "metadata": {},
   "outputs": [],
   "source": [
    "def Goodify(g, n): # function to modify (or as I say Goodify) g by changing n to n+1\n",
    "    ans = 0\n",
    "    i = 0\n",
    "    while g != 0:\n",
    "        ans += (g%n)*((n+1)**Goodify(i, n))\n",
    "        g = g//n\n",
    "        i += 1\n",
    "    return ans"
   ]
  },
  {
   "cell_type": "code",
   "execution_count": 39,
   "id": "ec15805e",
   "metadata": {},
   "outputs": [],
   "source": [
    "def G(m, k): #Goodstein Function\n",
    "    if(k == 1): return m\n",
    "    g = G(m ,k-1)\n",
    "    ans = Goodify(g, k) - 1\n",
    "    return ans"
   ]
  },
  {
   "cell_type": "code",
   "execution_count": null,
   "id": "17cf5915",
   "metadata": {},
   "outputs": [
    {
     "name": "stdout",
     "output_type": "stream",
     "text": [
      "Enter m as -1 to exit\n",
      "Enter m: 422\n",
      "Enter k: 2\n",
      "443426488243037769948250271169338631740\n"
     ]
    }
   ],
   "source": [
    "print(\"Enter m as -1 to exit\")\n",
    "while(True):\n",
    "    m = int(input(\"Enter m: \"))\n",
    "    if(m == -1): break\n",
    "    k = int(input(\"Enter k: \"))\n",
    "    ans = G(m, k)\n",
    "    if(ans < 0):\n",
    "        print(\"Already terminated for lesser k!\")\n",
    "    else: \n",
    "        print(ans)"
   ]
  }
 ],
 "metadata": {
  "kernelspec": {
   "display_name": "Python 3",
   "language": "python",
   "name": "python3"
  },
  "language_info": {
   "codemirror_mode": {
    "name": "ipython",
    "version": 3
   },
   "file_extension": ".py",
   "mimetype": "text/x-python",
   "name": "python",
   "nbconvert_exporter": "python",
   "pygments_lexer": "ipython3",
   "version": "3.8.8"
  }
 },
 "nbformat": 4,
 "nbformat_minor": 5
}
